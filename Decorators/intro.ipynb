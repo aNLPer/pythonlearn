{
 "cells": [
  {
   "cell_type": "code",
   "execution_count": 1,
   "outputs": [
    {
     "name": "stdout",
     "output_type": "stream",
     "text": [
      "result:: 20\n"
     ]
    }
   ],
   "source": [
    "# def\n",
    "def add0(x, y=10):\n",
    "    z = x+y\n",
    "    return z\n",
    "print(f\"result:: {add0(10)}\")"
   ],
   "metadata": {
    "collapsed": false
   }
  },
  {
   "cell_type": "code",
   "execution_count": 2,
   "outputs": [
    {
     "name": "stdout",
     "output_type": "stream",
     "text": [
      "time: 0.0\n",
      "end: 20\n"
     ]
    }
   ],
   "source": [
    "# 为加法函数添加计时功能\n",
    "from time import time\n",
    "def add1(x, y=10):\n",
    "    start = time()\n",
    "    z = x+y\n",
    "    end = time()\n",
    "    print(f\"time: {end-start}\")\n",
    "    return z\n",
    "\n",
    "result = add1(10)\n",
    "print(f\"end: {result}\")"
   ],
   "metadata": {
    "collapsed": false
   }
  },
  {
   "cell_type": "code",
   "execution_count": 3,
   "outputs": [
    {
     "name": "stdout",
     "output_type": "stream",
     "text": [
      "time: 0.0\n",
      "end : 20\n",
      "time: 0.0\n",
      "end : 40\n"
     ]
    }
   ],
   "source": [
    "# 以函数作为参数\n",
    "def timer0(func, x, y=10):\n",
    "    start = time()\n",
    "    res = func(x,y)\n",
    "    end = time()\n",
    "    print(f\"time: {end-start}\")\n",
    "    return res\n",
    "\n",
    "print(f\"end : {timer0(add0, 10)}\")\n",
    "print(f\"end : {timer0(add0, 10, 30)}\")"
   ],
   "metadata": {
    "collapsed": false
   }
  },
  {
   "cell_type": "markdown",
   "source": [
    "timer(add0, 10, 30) 这种调用方法太复杂，可读性不好，这里有一种稍微简洁的做法。"
   ],
   "metadata": {
    "collapsed": false
   }
  },
  {
   "cell_type": "code",
   "execution_count": 4,
   "outputs": [],
   "source": [
    "# 返回函数\n",
    "def timer1(func):\n",
    "    def f(x,y=10):\n",
    "        start = time()\n",
    "        res = func(x,y)\n",
    "        end = time()\n",
    "        print(f\"time: {end-start}\")\n",
    "        return res\n",
    "    return f"
   ],
   "metadata": {
    "collapsed": false
   }
  },
  {
   "cell_type": "code",
   "execution_count": 5,
   "outputs": [],
   "source": [
    "add0 = timer1(add0)\n",
    "\n",
    "@timer1\n",
    "def add3(x, y=10):\n",
    "    z = x+y\n",
    "    return z"
   ],
   "metadata": {
    "collapsed": false
   }
  },
  {
   "cell_type": "code",
   "execution_count": 6,
   "outputs": [
    {
     "name": "stdout",
     "output_type": "stream",
     "text": [
      "time: 0.0\n"
     ]
    },
    {
     "data": {
      "text/plain": "20"
     },
     "execution_count": 6,
     "metadata": {},
     "output_type": "execute_result"
    }
   ],
   "source": [
    "add0(10)"
   ],
   "metadata": {
    "collapsed": false
   }
  },
  {
   "cell_type": "code",
   "execution_count": 7,
   "outputs": [
    {
     "name": "stdout",
     "output_type": "stream",
     "text": [
      "time: 0.0\n"
     ]
    },
    {
     "data": {
      "text/plain": "20"
     },
     "execution_count": 7,
     "metadata": {},
     "output_type": "execute_result"
    }
   ],
   "source": [
    "add3(10)"
   ],
   "metadata": {
    "collapsed": false
   }
  },
  {
   "cell_type": "markdown",
   "source": [
    "可以看到，timer1 以函数func作为参数，返回对func上进行包装后的函数f。对比timer0，timer1增加了函数的功能，保持了代码的可读性。上面的代码已经展示了装饰器的基本思想了，可是timer1中返回的函数f的参数必须和传入的函数func的参数对应，这有降低了函数的通用性。"
   ],
   "metadata": {
    "collapsed": false
   }
  },
  {
   "cell_type": "markdown",
   "source": [
    "# 装饰器"
   ],
   "metadata": {
    "collapsed": false
   }
  },
  {
   "cell_type": "code",
   "execution_count": 8,
   "outputs": [],
   "source": [
    "def timer(func):\n",
    "    def f(*args,**kwargs):\n",
    "        start = time()\n",
    "        res = func(*args,**kwargs)\n",
    "        end = time()\n",
    "        print(f\"time: {end-start}\")\n",
    "        return res\n",
    "    return f"
   ],
   "metadata": {
    "collapsed": false
   }
  },
  {
   "cell_type": "code",
   "execution_count": 9,
   "outputs": [],
   "source": [
    "@timer\n",
    "def sub():\n",
    "    print(\"sub\")\n",
    "@timer\n",
    "def mul(a, b):\n",
    "    print(a*b)"
   ],
   "metadata": {
    "collapsed": false
   }
  },
  {
   "cell_type": "code",
   "execution_count": 10,
   "outputs": [
    {
     "name": "stdout",
     "output_type": "stream",
     "text": [
      "sub\n",
      "time: 0.0009996891021728516\n"
     ]
    }
   ],
   "source": [
    "sub()"
   ],
   "metadata": {
    "collapsed": false
   }
  },
  {
   "cell_type": "code",
   "execution_count": 11,
   "outputs": [
    {
     "name": "stdout",
     "output_type": "stream",
     "text": [
      "2\n",
      "time: 0.0\n"
     ]
    }
   ],
   "source": [
    "mul(1,2)"
   ],
   "metadata": {
    "collapsed": false
   }
  },
  {
   "cell_type": "markdown",
   "source": [
    "至此，我们了解了装饰器的基本使用方式"
   ],
   "metadata": {
    "collapsed": false
   }
  },
  {
   "cell_type": "markdown",
   "source": [
    "# 多装饰器"
   ],
   "metadata": {
    "collapsed": false
   }
  },
  {
   "cell_type": "code",
   "execution_count": 12,
   "outputs": [
    {
     "name": "stdout",
     "output_type": "stream",
     "text": [
      "before test2 ...\n",
      "before test1 ...\n",
      "3\n",
      "after test1 ...\n",
      "after test2 ...\n"
     ]
    }
   ],
   "source": [
    "def test1(func):\n",
    "    def wrapper(*args, **kwargs):\n",
    "        print('before test1 ...')\n",
    "        func(*args, **kwargs)\n",
    "        print('after test1 ...')\n",
    "    return wrapper #返回内层函数的引用\n",
    "\n",
    "def test2(func):\n",
    "    def wrapper(*args, **kwargs):\n",
    "        print('before test2 ...')\n",
    "        func(*args, **kwargs)\n",
    "        print('after test2 ...')\n",
    "    return wrapper #返回内层函数的引用\n",
    "\n",
    "@test2\n",
    "@test1\n",
    "def add(a, b):\n",
    "    print(a+b)\n",
    "\n",
    "add(1, 2) #正常调用add"
   ],
   "metadata": {
    "collapsed": false
   }
  },
  {
   "cell_type": "markdown",
   "source": [
    "从上面的输出我们可以看到装饰器的执行顺序"
   ],
   "metadata": {
    "collapsed": false
   }
  },
  {
   "cell_type": "markdown",
   "source": [
    "![装饰器执行顺序](./img.png)"
   ],
   "metadata": {
    "collapsed": false
   }
  },
  {
   "cell_type": "markdown",
   "source": [
    "# 带参数的装饰器"
   ],
   "metadata": {
    "collapsed": false
   }
  },
  {
   "cell_type": "markdown",
   "source": [
    "我们知道装饰器最终返回的是嵌套函数的引用，只要记住这点，装饰器就任由我们发挥了。写一个带参数的装饰器："
   ],
   "metadata": {
    "collapsed": false
   }
  },
  {
   "cell_type": "code",
   "execution_count": 13,
   "outputs": [
    {
     "name": "stdout",
     "output_type": "stream",
     "text": [
      "验证权限[add]...\n",
      "3\n",
      "执行完毕...\n"
     ]
    }
   ],
   "source": [
    "def auth(permission):\n",
    "    def _auth(func):\n",
    "        def wrapper(*args, **kwargs):\n",
    "            print(f\"验证权限[{permission}]...\")\n",
    "            func(*args, **kwargs)\n",
    "            print(\"执行完毕...\")\n",
    "        return wrapper\n",
    "    return _auth\n",
    "\n",
    "\n",
    "@auth(\"add\")\n",
    "def add(a, b):\n",
    "    \"\"\"\n",
    "    求和运算\n",
    "    \"\"\"\n",
    "    print(a + b)\n",
    "\n",
    "add(1, 2)  # 正常调用add\n"
   ],
   "metadata": {
    "collapsed": false
   }
  },
  {
   "cell_type": "code",
   "execution_count": 14,
   "outputs": [
    {
     "name": "stdout",
     "output_type": "stream",
     "text": [
      "<function auth.<locals>._auth.<locals>.wrapper at 0x00000141D1CD5F70>\n",
      "wrapper\n",
      "None\n"
     ]
    }
   ],
   "source": [
    "print(add)\n",
    "print(add.__name__)\n",
    "print(add.__doc__)"
   ],
   "metadata": {
    "collapsed": false
   }
  },
  {
   "cell_type": "markdown",
   "source": [
    "通过输出我们看出，add函数已经被改变。为了消除装饰器对原函数的影响，我们需要伪装成原函数，拥有原函数的属性，看起来就像是同一个人一样。functools.wraps为我们提供了便捷的方式"
   ],
   "metadata": {
    "collapsed": false
   }
  },
  {
   "cell_type": "code",
   "execution_count": 15,
   "outputs": [
    {
     "name": "stdout",
     "output_type": "stream",
     "text": [
      "<function add at 0x00000141D1CC1CA0>\n",
      "add\n",
      "\n",
      "    求和运算\n",
      "    \n"
     ]
    }
   ],
   "source": [
    "from functools import wraps\n",
    "\n",
    "def auth(permission):\n",
    "    def _auth(func):\n",
    "        @wraps(func) # 注意此处\n",
    "        def wrapper(*args, **kwargs):\n",
    "            print(f\"验证权限[{permission}]...\")\n",
    "            func(*args, **kwargs)\n",
    "            print(\"执行完毕...\")\n",
    "\n",
    "        return wrapper\n",
    "\n",
    "    return _auth\n",
    "\n",
    "\n",
    "@auth(\"add\")\n",
    "def add(a, b):\n",
    "    \"\"\"\n",
    "    求和运算\n",
    "    \"\"\"\n",
    "    print(a + b)\n",
    "\n",
    "print(add)\n",
    "print(add.__name__)\n",
    "print(add.__doc__)"
   ],
   "metadata": {
    "collapsed": false
   }
  },
  {
   "cell_type": "code",
   "execution_count": 15,
   "outputs": [],
   "source": [],
   "metadata": {
    "collapsed": false
   }
  }
 ],
 "metadata": {
  "kernelspec": {
   "display_name": "Python 3",
   "language": "python",
   "name": "python3"
  },
  "language_info": {
   "codemirror_mode": {
    "name": "ipython",
    "version": 2
   },
   "file_extension": ".py",
   "mimetype": "text/x-python",
   "name": "python",
   "nbconvert_exporter": "python",
   "pygments_lexer": "ipython2",
   "version": "2.7.6"
  }
 },
 "nbformat": 4,
 "nbformat_minor": 0
}
